{
  "nbformat": 4,
  "nbformat_minor": 0,
  "metadata": {
    "colab": {
      "provenance": [],
      "gpuType": "T4",
      "authorship_tag": "ABX9TyMyp155F2VDO5ToNNxbx8Ja",
      "include_colab_link": true
    },
    "kernelspec": {
      "name": "python3",
      "display_name": "Python 3"
    },
    "language_info": {
      "name": "python"
    },
    "accelerator": "GPU"
  },
  "cells": [
    {
      "cell_type": "markdown",
      "metadata": {
        "id": "view-in-github",
        "colab_type": "text"
      },
      "source": [
        "<a href=\"https://colab.research.google.com/github/ZaraGiraffe/ZaraNLP/blob/main/rnn_test_gradient_torch.ipynb\" target=\"_parent\"><img src=\"https://colab.research.google.com/assets/colab-badge.svg\" alt=\"Open In Colab\"/></a>"
      ]
    },
    {
      "cell_type": "code",
      "execution_count": 1,
      "metadata": {
        "id": "_Xr2xRxtnE_e"
      },
      "outputs": [],
      "source": [
        "import torch\n",
        "from torch import nn\n",
        "\n",
        "import tensorflow as tf\n",
        "from tensorflow.keras import layers\n",
        "\n",
        "import numpy as np\n",
        "\n",
        "import string\n",
        "from time import time"
      ]
    },
    {
      "cell_type": "markdown",
      "source": [
        "# Get the data file"
      ],
      "metadata": {
        "id": "PjbNsNGfT3CM"
      }
    },
    {
      "cell_type": "code",
      "source": [
        "path_to_file = tf.keras.utils.get_file('shakespeare.txt', 'https://storage.googleapis.com/download.tensorflow.org/data/shakespeare.txt')"
      ],
      "metadata": {
        "id": "EAbkBguDnYcq",
        "colab": {
          "base_uri": "https://localhost:8080/"
        },
        "outputId": "aced1c41-ffcf-4edb-8678-e41a502ae17e"
      },
      "execution_count": 2,
      "outputs": [
        {
          "output_type": "stream",
          "name": "stdout",
          "text": [
            "Downloading data from https://storage.googleapis.com/download.tensorflow.org/data/shakespeare.txt\n",
            "1115394/1115394 [==============================] - 0s 0us/step\n"
          ]
        }
      ]
    },
    {
      "cell_type": "code",
      "source": [
        "all_text = open(path_to_file, \"r\").read()\n",
        "len(all_text)"
      ],
      "metadata": {
        "colab": {
          "base_uri": "https://localhost:8080/"
        },
        "id": "WLKsojrOp-4Q",
        "outputId": "c4c0d9d8-a0b7-40a8-d38f-5f91be2037a6"
      },
      "execution_count": 3,
      "outputs": [
        {
          "output_type": "execute_result",
          "data": {
            "text/plain": [
              "1115394"
            ]
          },
          "metadata": {},
          "execution_count": 3
        }
      ]
    },
    {
      "cell_type": "code",
      "source": [
        "len(set(all_text))"
      ],
      "metadata": {
        "colab": {
          "base_uri": "https://localhost:8080/"
        },
        "id": "NIScSoR2s0i5",
        "outputId": "8764a390-9ef9-48f7-c33b-26fabd3095b5"
      },
      "execution_count": 4,
      "outputs": [
        {
          "output_type": "execute_result",
          "data": {
            "text/plain": [
              "65"
            ]
          },
          "metadata": {},
          "execution_count": 4
        }
      ]
    },
    {
      "cell_type": "markdown",
      "source": [
        "# Predict next character in tensorflow"
      ],
      "metadata": {
        "id": "nnCz6wBxTrvb"
      }
    },
    {
      "cell_type": "code",
      "source": [
        "ids_from_chars = layers.StringLookup(vocabulary=list(set(all_text)))"
      ],
      "metadata": {
        "id": "xKPckgZ6txQ5"
      },
      "execution_count": 5,
      "outputs": []
    },
    {
      "cell_type": "code",
      "source": [
        "exm_ids = ids_from_chars(tf.strings.unicode_split([\"avc\", \"vvc\"], input_encoding=\"UTF-8\"))\n",
        "exm_ids"
      ],
      "metadata": {
        "colab": {
          "base_uri": "https://localhost:8080/"
        },
        "id": "irPlcrNcvLAz",
        "outputId": "9e128024-1360-4f47-eee2-1586a3d93190"
      },
      "execution_count": 6,
      "outputs": [
        {
          "output_type": "execute_result",
          "data": {
            "text/plain": [
              "<tf.RaggedTensor [[17, 19, 12],\n",
              " [19, 19, 12]]>"
            ]
          },
          "metadata": {},
          "execution_count": 6
        }
      ]
    },
    {
      "cell_type": "code",
      "source": [
        "chars_from_ids = layers.StringLookup(vocabulary=ids_from_chars.get_vocabulary(), invert=True)"
      ],
      "metadata": {
        "id": "B6auLW6fvrnx"
      },
      "execution_count": 7,
      "outputs": []
    },
    {
      "cell_type": "code",
      "source": [
        "exm_chars = chars_from_ids(exm_ids)\n",
        "exm_chars"
      ],
      "metadata": {
        "colab": {
          "base_uri": "https://localhost:8080/"
        },
        "id": "ci0yvSY-wM_Q",
        "outputId": "8052e03c-42bc-4e17-faf8-5b3f1a621b7e"
      },
      "execution_count": 8,
      "outputs": [
        {
          "output_type": "execute_result",
          "data": {
            "text/plain": [
              "<tf.RaggedTensor [[b'a', b'v', b'c'],\n",
              " [b'v', b'v', b'c']]>"
            ]
          },
          "metadata": {},
          "execution_count": 8
        }
      ]
    },
    {
      "cell_type": "code",
      "source": [
        "ids_dataset ="
      ],
      "metadata": {
        "id": "A_s3u6CNw2go"
      },
      "execution_count": null,
      "outputs": []
    }
  ]
}